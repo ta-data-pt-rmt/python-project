{
 "cells": [
  {
   "cell_type": "code",
   "execution_count": 1,
   "id": "fa33543f",
   "metadata": {},
   "outputs": [],
   "source": [
    "#!pip3 install opencv-python\n",
    "import cv2\n"
   ]
  },
  {
   "cell_type": "code",
   "execution_count": 9,
   "id": "8963e8ce",
   "metadata": {},
   "outputs": [],
   "source": [
    "#import numpy as np\n",
    "image_piano = cv2.imread(\"piano.jpg\") #use an absolute path\n",
    "cv2.imshow('image', image_piano)\n",
    "cv2.waitKey(0)\n",
    "cv2.destroyAllWindows()"
   ]
  },
  {
   "cell_type": "code",
   "execution_count": null,
   "id": "ae0f1116",
   "metadata": {},
   "outputs": [],
   "source": []
  },
  {
   "cell_type": "code",
   "execution_count": null,
   "id": "391eab8d",
   "metadata": {},
   "outputs": [],
   "source": []
  }
 ],
 "metadata": {
  "kernelspec": {
   "display_name": "Python 3 (ipykernel)",
   "language": "python",
   "name": "python3"
  },
  "language_info": {
   "codemirror_mode": {
    "name": "ipython",
    "version": 3
   },
   "file_extension": ".py",
   "mimetype": "text/x-python",
   "name": "python",
   "nbconvert_exporter": "python",
   "pygments_lexer": "ipython3",
   "version": "3.9.7"
  }
 },
 "nbformat": 4,
 "nbformat_minor": 5
}
